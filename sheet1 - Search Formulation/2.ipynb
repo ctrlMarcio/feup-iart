{
 "metadata": {
  "language_info": {
   "codemirror_mode": {
    "name": "ipython",
    "version": 3
   },
   "file_extension": ".py",
   "mimetype": "text/x-python",
   "name": "python",
   "nbconvert_exporter": "python",
   "pygments_lexer": "ipython3",
   "version": "3.9.2-final"
  },
  "orig_nbformat": 2,
  "kernelspec": {
   "name": "python3",
   "display_name": "Python 3.9.2 64-bit",
   "metadata": {
    "interpreter": {
     "hash": "63fd5069d213b44bf678585dea6b12cceca9941eaf7f819626cde1f2670de90d"
    }
   }
  }
 },
 "nbformat": 4,
 "nbformat_minor": 2,
 "cells": [
  {
   "source": [
    "# Missionaries and Cannibals Problem\n",
    " \n",
    "Three missionaries and three cannibals are on one of the banks of the river with a boat that only takes one or two people. The boat cannot travel the river alone. The goal is to find a way to get the six to the other bank of the river without ever leaving more cannibals than missionaries on one of the banks (even at the instant they leave/join the boat) during the process.\n",
    "\n",
    "1. Formulate this problem as a search problem by defining the state representation, initial \n",
    "state, operators (their name, preconditions, effects, and cost), and objective test. \n",
    "2. Solve the problem, by hand, using tree search. \n",
    "3. Using a programming language of your choice, solve the problem by applying: \n",
    "    - Breadth-first search strategy. \n",
    "    - Depth-first search strategy (limited depth). \n",
    "    - Iterative deepening strategy."
   ],
   "cell_type": "markdown",
   "metadata": {}
  },
  {
   "source": [
    "## Problem formulation\n",
    "\n",
    "- **State Representation** - (nm, nc, nb) so that nm is the number of missionaires in the first margin, nc the number of canibals, and nb the number of boatds\n",
    "- **Initial State** - (3, 3, 1), initial vars - (sm, sc, 1)\n",
    "- **Operators** -\n",
    "\n",
    "Name | Meaning | Preconditions | Effects | Cost\n",
    "---- | ------- | ------------- | ------- | ----\n",
    "mm2 | take 2 m to bank 2 | nm >= 2, nc <= nm - 2, nb == 1 | nm = nm - 2, nb = 0 | 1\n",
    "m2 | take 1 m to bank 2 | nm >= 1, nc <= nm - 1, nb == 1 | nm = nm - 1, nb = 0 | 1\n",
    "mc2 | take 1 m and 1 c to bank 2 | nm >= 1, nc >= 1, nb == 1 | nm = nm - 1, nc = nc - 1, nb = 0 | 1\n",
    "cc2 | take 2 c to bank 2 | nc >= 2, sm - nm >= sc - nc + 2, nb == 1 | nc = nc - 2, nb = 0 | 1\n",
    "c2 | take 1 c to bank 2 | nc >= 1, sm - nm >= sc - nc + 1, nb == 1 | nc = nc - 1, nb = 0 | 1\n",
    "mm1 | take 2 m to bank 1 | sm - nm >= 2, sc - nc <= sm - nm - 2, nb == 0 | nm = nm + 2, nb = 1 | 1\n",
    "m1 | take 1 m to bank 1 | sm - nm >= 1, sc - nc <= sm - nm - 1, nb == 0 | nm = nm + 1, nb = 1 | 1\n",
    "mc1 | take 1 m and 1 c to bank 1 | sm - nm >= 1, sc - nc >= 1, nb == 0 | nm = nm + 1, nc = nc + 1, nb = 1 | 1\n",
    "cc1 | take 2 c to bank 1 | sc - nc >= 2, nm >= nc + 2, nb == 0 | nc = nc + 2, nb = 1 | 1\n",
    "c1 | take 1 c to bank 1 | sc - nc >= 1, nm > nc + 1, nb == 0 | nc = nc + 1, nb = 1 | 1\n",
    "\n",
    "    - in the preconditions, the number of cannibals has to be smaller than the number of missionaires only when there are missionaires, this is, it does not apply where the resulting number of missionaires is not 0. It was ommited for readibility purposes\n",
    "\n",
    "- **Objective Test** - (0, 0, _)"
   ],
   "cell_type": "markdown",
   "metadata": {}
  },
  {
   "cell_type": "code",
   "execution_count": 2,
   "metadata": {},
   "outputs": [],
   "source": [
    "# initial state\n",
    "sm = 3\n",
    "sc = 3\n",
    "initial_state = (sm, sc, 1)\n",
    "\n",
    "# operators definition\n",
    "def mm2(state):\n",
    "    (nm, nc, nb) = state\n",
    "    if nm < 2 or (nc > nm - 2 and nm - 2 > 0) or nb != 1:\n",
    "        return False\n",
    "\n",
    "    nm -= 2\n",
    "    nb = 0\n",
    "    return (nm, nc, nb)\n",
    "\n",
    "def m2(state):\n",
    "    (nm, nc, nb) = state\n",
    "    if nm < 1 or (nc > nm - 1 and nm - 1 > 0) or nb != 1:\n",
    "        return False\n",
    "\n",
    "    nm -= 1\n",
    "    nb = 0\n",
    "    return (nm, nc, nb)\n",
    "\n",
    "def mc2(state):\n",
    "    (nm, nc, nb) = state\n",
    "    if nm < 1 or nc < 1 or nb != 1:\n",
    "        return False\n",
    "\n",
    "    nm -= 1\n",
    "    nc -= 1\n",
    "    nb = 0\n",
    "    return (nm, nc, nb)\n",
    "    \n",
    "def cc2(state):\n",
    "    (nm, nc, nb) = state\n",
    "    if nc < 2 or (sm - nm < sc - nc + 2 and sm - nm > 0) or nb != 1:\n",
    "        return False\n",
    "\n",
    "    nc -= 2\n",
    "    nb = 0\n",
    "    return (nm, nc, nb)\n",
    "\n",
    "def c2(state):\n",
    "    (nm, nc, nb) = state\n",
    "    if nc < 1 or (sm - nm < sc - nc + 1 and sm - nm > 0) or nb != 1:\n",
    "        return False\n",
    "\n",
    "    nc -= 1\n",
    "    nb = 0\n",
    "    return (nm, nc, nb)\n",
    "\n",
    "def mm1(state):\n",
    "    (nm, nc, nb) = state\n",
    "    if sm - nm < 2 or (sc - nc > sm - nm - 2 and sm - nm - 2 > 0) or nb != 0:\n",
    "        return False\n",
    "\n",
    "    nm += 2\n",
    "    nb = 1\n",
    "    return (nm, nc, nb)\n",
    "\n",
    "def m1(state):\n",
    "    (nm, nc, nb) = state\n",
    "    if sm - nm < 1 or (sc - nc > sm - nm - 1 and sm - nm - 1 > 0) or nb != 0:\n",
    "        return False\n",
    "\n",
    "    nm += 1\n",
    "    nb = 1\n",
    "    return (nm, nc, nb)\n",
    "\n",
    "def mc1(state):\n",
    "    (nm, nc, nb) = state\n",
    "    if sm - nm < 1 or sc - nc < 1 or nb != 0:\n",
    "        return False\n",
    "\n",
    "    nm += 1\n",
    "    nc += 1\n",
    "    nb = 1\n",
    "    return (nm, nc, nb)\n",
    "\n",
    "def cc1(state):\n",
    "    (nm, nc, nb) = state\n",
    "    if sc - nc < 2 or (nm < nc + 2 and nm > 0) or nb != 0:\n",
    "        return False\n",
    "\n",
    "    nc += 2\n",
    "    nb = 1\n",
    "    return (nm, nc, nb)\n",
    "\n",
    "def c1(state):\n",
    "    (nm, nc, nb) = state\n",
    "    if sc - nc < 1 or (nm < nc + 1 and nm > 0) or nb != 0:\n",
    "        return False\n",
    "\n",
    "    nc += 1\n",
    "    nb = 1\n",
    "    return (nm, nc, nb)\n",
    "\n",
    "# Objective\n",
    "def objective(state):\n",
    "    (nm, nc, nb) = state\n",
    "    return nm == 0 and nc == 0\n",
    "\n",
    "functions = [mm2, m2, mc2, cc2, c2, mm1, m1, mc1, cc1, c1]"
   ]
  },
  {
   "cell_type": "code",
   "execution_count": 3,
   "metadata": {},
   "outputs": [
    {
     "output_type": "stream",
     "name": "stdout",
     "text": [
      "[(3, 3, 1), (2, 2, 0), (3, 2, 1), (2, 1, 0), (3, 1, 1), (2, 0, 0), (3, 0, 1), (1, 0, 0), (1, 1, 1), (0, 0, 0)]\n"
     ]
    }
   ],
   "source": [
    "import sys\n",
    "sys.path.insert(1, '../common')\n",
    "\n",
    "from search import bfs\n",
    "\n",
    "sys.setrecursionlimit(10**6)\n",
    "\n",
    "res = bfs(initial_state, functions, objective)\n",
    "print(res)"
   ]
  },
  {
   "cell_type": "code",
   "execution_count": 4,
   "metadata": {
    "tags": []
   },
   "outputs": [
    {
     "output_type": "stream",
     "name": "stdout",
     "text": [
      "[(3, 3, 1), (3, 1, 0), (3, 2, 1), (3, 0, 0), (3, 1, 1), (2, 0, 0), (2, 1, 1), (1, 0, 0), (1, 1, 1), (0, 0, 0)]\n"
     ]
    }
   ],
   "source": [
    "import sys\n",
    "sys.path.insert(1, '../common')\n",
    "\n",
    "from search import dfs\n",
    "\n",
    "res = dfs(initial_state, functions, objective, 10)\n",
    "print(res)"
   ]
  },
  {
   "cell_type": "code",
   "execution_count": 5,
   "metadata": {},
   "outputs": [
    {
     "output_type": "stream",
     "name": "stdout",
     "text": [
      "[(3, 3, 1), (3, 1, 0), (3, 2, 1), (3, 0, 0), (3, 1, 1), (2, 0, 0), (2, 1, 1), (1, 0, 0), (1, 1, 1), (0, 0, 0)]\n"
     ]
    }
   ],
   "source": [
    "import sys\n",
    "sys.path.insert(1, '../common')\n",
    "\n",
    "from search import iterative_dfs\n",
    "\n",
    "res = iterative_dfs(initial_state, functions, objective)\n",
    "print(res)"
   ]
  },
  {
   "cell_type": "code",
   "execution_count": null,
   "metadata": {},
   "outputs": [],
   "source": []
  }
 ]
}