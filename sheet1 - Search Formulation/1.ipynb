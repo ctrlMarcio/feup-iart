{
 "metadata": {
  "language_info": {
   "codemirror_mode": {
    "name": "ipython",
    "version": 3
   },
   "file_extension": ".py",
   "mimetype": "text/x-python",
   "name": "python",
   "nbconvert_exporter": "python",
   "pygments_lexer": "ipython3",
   "version": "3.9.2-final"
  },
  "orig_nbformat": 2,
  "kernelspec": {
   "name": "python3",
   "display_name": "Python 3.9.2 64-bit",
   "metadata": {
    "interpreter": {
     "hash": "63fd5069d213b44bf678585dea6b12cceca9941eaf7f819626cde1f2670de90d"
    }
   }
  }
 },
 "nbformat": 4,
 "nbformat_minor": 2,
 "cells": [
  {
   "source": [
    "# Two Buckets Problem\n",
    "\n",
    "Two buckets, of capacities c1 (e.g. 4 liters) and c2 (e.g. 3 liters), respectively, are initially empty. \n",
    "\n",
    "Buckets do not have any intermediate markings. The only operations you can perform are: \n",
    "\n",
    "- Fill (completely) a bucket \n",
    "- Empty a bucket. \n",
    "- Pour one bucket into the other (until the second one is full or until the first one is empty). \n",
    "\n",
    "The aim is to determine which operations to carry out so that the first bucket contains n liters (e.g. 2 litres).\n",
    "\n",
    "a) Formulate this problem as a search problem by \n",
    "defining the state representation, initial state, \n",
    "operators (their name, preconditions, effects, and cost), and objective test. \n",
    "\n",
    "b) Solve the problem, by hand, using tree search. \n",
    "\n",
    "c) Using a programming language of your choice, solve the problem by applying: \n",
    "\n",
    "- (c1) Breadth-first search strategy. \n",
    "- (c2) Depth-first search strategy (limited depth). \n",
    "- (c3) Iterative deepening strategy"
   ],
   "cell_type": "markdown",
   "metadata": {}
  },
  {
   "source": [
    "## Problem formulation\n",
    "\n",
    "- **State Representation** - (w1, w2) so that w1 is the number of liters of water in the A bucket, and w2 is the number of liters of water in the B bucket\n",
    "- **Initial State** - (0, 0)\n",
    "- **Operators** -\n",
    "\n",
    "Name | Preconditions | Effects | Cost\n",
    "---- | ------------- | ------- | ----\n",
    "fill1 | w1 < c1 | w1 = c1 | 1\n",
    "fill2 | w2 < c2 | w2 = c2 | 1\n",
    "empty1 | w1 > 0 | w1 = 0 | 1\n",
    "empty2 | w2 > 0 | w2 = 0 | 1\n",
    "fill2from1 | w1 > 0, c2 - w2 <= w1 | w1 = w1 - (c2 - w2), w2 = c2 | 1\n",
    "fill1from2 | w2 > 0, c1 - w1 <= w2 | w2 = w2 - (c1 - w1), w1 = c1 | 1\n",
    "empty1to2 | w1 > 0, c2 - w2 >= w1 | w2 = w2 + w1, w1 = 0 | 1\n",
    "empty2to1 | w2 > 0, c1 - w1 >= w2 | w1 = w1 + w2, w2 = 0 | 1\n",
    "\n",
    "- **Objective Test** - (n, 0)"
   ],
   "cell_type": "markdown",
   "metadata": {}
  },
  {
   "source": [
    "## Problem solution implementation"
   ],
   "cell_type": "markdown",
   "metadata": {}
  },
  {
   "source": [
    "# load defintions\n",
    "\n",
    "c1, c2 = (4, 3)\n",
    "n = 2\n",
    "initial_state = (0, 0)\n",
    "\n",
    "def fill1(state):\n",
    "    (w1, w2) = state\n",
    "    if w1 >= c1:\n",
    "        return False\n",
    "\n",
    "    w1 = c1\n",
    "    return (w1, w2)\n",
    "\n",
    "\n",
    "def fill2(state):\n",
    "    (w1, w2) = state\n",
    "    if w2 >= c2:\n",
    "        return False\n",
    "\n",
    "    w2 = c2\n",
    "    return (w1, w2)\n",
    "\n",
    "\n",
    "def empty1(state):\n",
    "    (w1, w2) = state\n",
    "    if w1 == 0:\n",
    "        return False\n",
    "\n",
    "    w1 = 0\n",
    "    return (w1, w2)\n",
    "\n",
    "\n",
    "def empty2(state):\n",
    "    (w1, w2) = state\n",
    "    if w2 == 0:\n",
    "        return False\n",
    "\n",
    "    w2 = 0\n",
    "    return (w1, w2)\n",
    "\n",
    "\n",
    "def fill2from1(state):\n",
    "    (w1, w2) = state\n",
    "    if w1 == 0 or c2 - w2 > w1:\n",
    "        return False\n",
    "\n",
    "    w1 = w1 - (c2 - w2)\n",
    "    w2 = c2\n",
    "    return (w1, w2)\n",
    "\n",
    "\n",
    "def fill1from2(state):\n",
    "    (w1, w2) = state\n",
    "    if w2 == 0 or c1 - w1 > w1:\n",
    "        return False\n",
    "\n",
    "    w2 = w2 - (c1 - w1)\n",
    "    w1 = c1\n",
    "    return (w1, w2)\n",
    "\n",
    "\n",
    "def empty1to2(state):\n",
    "    (w1, w2) = state\n",
    "    if w1 == 0 or c2 - w2 < w1:\n",
    "        return False\n",
    "\n",
    "    w2 = w2 + w1\n",
    "    w1 = 0\n",
    "    return (w1, w2)\n",
    "\n",
    "\n",
    "def empty2to1(state):\n",
    "    (w1, w2) = state\n",
    "    if w2 == 0 or c1 - w1 < w2:\n",
    "        return False\n",
    "\n",
    "    w1 = w1 + w2\n",
    "    w2 = 0\n",
    "    return (w1, w2)\n",
    "\n",
    "\n",
    "def objective(state):\n",
    "    (w1, w2) = state\n",
    "    return w1 == n\n",
    "\n",
    "\n",
    "functions = [fill1, fill2, empty1, empty2,\n",
    "             fill2from1, fill1from2, empty1to2, empty2to1]"
   ],
   "cell_type": "code",
   "metadata": {},
   "execution_count": 1,
   "outputs": []
  },
  {
   "cell_type": "code",
   "execution_count": 2,
   "metadata": {},
   "outputs": [
    {
     "output_type": "stream",
     "name": "stdout",
     "text": [
      " |\n | start\n v\n[0, 0]\n |\n | fill1\n v\n[4, 0]\n |\n | fill2from1\n v\n[1, 3]\n |\n | empty2\n v\n[1, 0]\n |\n | empty1to2\n v\n[0, 1]\n |\n | fill1\n v\n[4, 1]\n |\n | fill2from1\n v\n[2, 3]\n\nweight: 6\n"
     ]
    }
   ],
   "source": [
    "import sys\n",
    "sys.path.insert(1, '../common')\n",
    "\n",
    "from search import bfs\n",
    "\n",
    "res = bfs(initial_state, functions, objective)\n",
    "print(res)"
   ]
  },
  {
   "cell_type": "code",
   "execution_count": 3,
   "metadata": {},
   "outputs": [
    {
     "output_type": "stream",
     "name": "stdout",
     "text": [
      " |\n | start\n v\n[0, 0]\n |\n | fill2\n v\n[0, 3]\n |\n | empty2to1\n v\n[3, 0]\n |\n | fill2\n v\n[3, 3]\n |\n | fill1from2\n v\n[4, 2]\n |\n | empty1\n v\n[0, 2]\n |\n | empty2to1\n v\n[2, 0]\n\nweight: 6\n"
     ]
    }
   ],
   "source": [
    "import sys\n",
    "sys.path.insert(1, '../common')\n",
    "\n",
    "from search import dfs\n",
    "\n",
    "sys.setrecursionlimit(10**6)\n",
    "\n",
    "res = dfs(initial_state, functions, objective, 10)\n",
    "print(res)"
   ]
  },
  {
   "cell_type": "code",
   "execution_count": 4,
   "metadata": {},
   "outputs": [
    {
     "output_type": "stream",
     "name": "stdout",
     "text": [
      " |\n | start\n v\n[0, 0]\n |\n | fill2\n v\n[0, 3]\n |\n | empty2to1\n v\n[3, 0]\n |\n | fill2\n v\n[3, 3]\n |\n | fill1from2\n v\n[4, 2]\n |\n | empty1\n v\n[0, 2]\n |\n | empty2to1\n v\n[2, 0]\n\nweight: 6\n"
     ]
    }
   ],
   "source": [
    "import sys\n",
    "sys.path.insert(1, '../common')\n",
    "\n",
    "from search import iterative_dfs\n",
    "\n",
    "res = iterative_dfs(initial_state, functions, objective)\n",
    "print(res)"
   ]
  },
  {
   "cell_type": "code",
   "execution_count": null,
   "metadata": {},
   "outputs": [],
   "source": []
  }
 ]
}